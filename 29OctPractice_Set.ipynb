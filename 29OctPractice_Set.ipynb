{
 "cells": [
  {
   "cell_type": "markdown",
   "id": "93dad7f2",
   "metadata": {},
   "source": [
    "1. write a function which will try to find out len of a string without using an inbuilt len function \n",
    "2. write a function which  will be able to print an index of list element without using an index function\n",
    "3. write a function which will be able to print an ip address of your system\n",
    "4. write a function which will shutdown your system\n",
    "5. write a function which will take input as a list with any kind of numeric value and give an out as a multiplication of \n",
    "all the numeric data l = [3.5, 6.56, 4,5,\"sudh\" , \"ineuron\" , 'fsda bootcamp 2.0']\n",
    "6. write a function which will be able to read all the mails \n",
    "7 . write a function which will be able to send a mail to anyone \n",
    "8. write a function which will be able to read a doc/word file from your system \n",
    "\n",
    "you are suppose to complete this by oct 30th before your \n",
    "live class and you have to send a solution at mail id - query@ineuron.ai\n",
    "submit your git link to mail "
   ]
  },
  {
   "cell_type": "markdown",
   "id": "f0fe50c0",
   "metadata": {},
   "source": [
    "# 1. write a function which will try to find out len of a string without using an inbuilt len function"
   ]
  },
  {
   "cell_type": "code",
   "execution_count": 1,
   "id": "c127b96b",
   "metadata": {},
   "outputs": [
    {
     "name": "stdout",
     "output_type": "stream",
     "text": [
      "5\n"
     ]
    }
   ],
   "source": [
    "def find_len():\n",
    "    s = \"rahul\"\n",
    "    count = 0\n",
    "    for i in s:\n",
    "        count = count + 1\n",
    "    print(count)\n",
    "find_len()"
   ]
  },
  {
   "cell_type": "markdown",
   "id": "9505061b",
   "metadata": {},
   "source": [
    "# write a function which will be able to print an index of list element without using an index function"
   ]
  },
  {
   "cell_type": "code",
   "execution_count": 2,
   "id": "526f28ae",
   "metadata": {},
   "outputs": [
    {
     "name": "stdout",
     "output_type": "stream",
     "text": [
      "1 index is : 0\n",
      "2 index is : 1\n",
      "3 index is : 2\n",
      "4 index is : 3\n"
     ]
    }
   ],
   "source": [
    "def index_element():\n",
    "    l = [1,2,3,4]\n",
    "    for i in range(len(l)):\n",
    "        print(f\"{l[i]} index is : {i}\")\n",
    "index_element()"
   ]
  },
  {
   "cell_type": "markdown",
   "id": "2313069d",
   "metadata": {},
   "source": [
    "# write a function which will be able to print an ip address of your system"
   ]
  },
  {
   "cell_type": "code",
   "execution_count": 3,
   "id": "2c6621e8",
   "metadata": {},
   "outputs": [
    {
     "name": "stdout",
     "output_type": "stream",
     "text": [
      "Your Computer IP Address is : 192.168.29.189\n"
     ]
    }
   ],
   "source": [
    "# Python Program to Get IP Address\n",
    "import socket\n",
    "def ip_address():\n",
    "    hostname = socket.gethostname()\n",
    "    IPAddr = socket.gethostbyname(hostname)\n",
    "    print(\"Your Computer IP Address is : \" + IPAddr)\n",
    "ip_address()"
   ]
  },
  {
   "cell_type": "markdown",
   "id": "3bad6c2e",
   "metadata": {},
   "source": [
    "# write a function which will shutdown your system"
   ]
  },
  {
   "cell_type": "code",
   "execution_count": 4,
   "id": "eaaab9b9",
   "metadata": {},
   "outputs": [
    {
     "name": "stdout",
     "output_type": "stream",
     "text": [
      "Do you wish to shutdown your computer ? (yes / no): no\n"
     ]
    }
   ],
   "source": [
    "import os\n",
    "def shut_down():\n",
    "    shutdown = input(\"Do you wish to shutdown your computer ? (yes / no): \")\n",
    "\n",
    "    if shutdown == 'no':\n",
    "        exit()\n",
    "    else:\n",
    "        os.system(\"shutdown /s /t 1\")\n",
    "shut_down()"
   ]
  },
  {
   "cell_type": "markdown",
   "id": "c7f2fcd2",
   "metadata": {},
   "source": [
    "\n",
    "# write a function which will take input as a list with any kind of numeric value and give an out as a multiplication of all the numeric data l = [3.5, 6.56, 4,5,\"sudh\" , \"ineuron\" , 'fsda bootcamp 2.0']"
   ]
  },
  {
   "cell_type": "code",
   "execution_count": 5,
   "id": "fa63057c",
   "metadata": {},
   "outputs": [
    {
     "name": "stdout",
     "output_type": "stream",
     "text": [
      "103.32\n"
     ]
    }
   ],
   "source": [
    "l = [3.5,6.56,4.5,\"sudh\",\"ineuron\",\"fsda bootcamp 2.0\"]\n",
    "mult = 1\n",
    "for i in l:\n",
    "    if type(i) == float or type(i) == int:\n",
    "        mult = mult * i\n",
    "print(mult)"
   ]
  },
  {
   "cell_type": "markdown",
   "id": "8f90beb5",
   "metadata": {},
   "source": [
    "# write a function which will be able to read a doc/word file from your system \n"
   ]
  },
  {
   "cell_type": "code",
   "execution_count": 6,
   "id": "a11241d6",
   "metadata": {},
   "outputs": [
    {
     "name": "stdout",
     "output_type": "stream",
     "text": [
      "Enter file name with extension : rahul.docx\n",
      "rahul.docx\n"
     ]
    }
   ],
   "source": [
    "file_name = input(\"Enter file name with extension : \")\n",
    "def read_docx():\n",
    "    if file_name.endswith(\".docx\"):\n",
    "        print(file_name)\n",
    "    else:\n",
    "        print(\"File valid extension is .docs only\")\n",
    "read_docx()"
   ]
  },
  {
   "cell_type": "code",
   "execution_count": null,
   "id": "106f55b1",
   "metadata": {},
   "outputs": [],
   "source": []
  }
 ],
 "metadata": {
  "kernelspec": {
   "display_name": "Python 3 (ipykernel)",
   "language": "python",
   "name": "python3"
  },
  "language_info": {
   "codemirror_mode": {
    "name": "ipython",
    "version": 3
   },
   "file_extension": ".py",
   "mimetype": "text/x-python",
   "name": "python",
   "nbconvert_exporter": "python",
   "pygments_lexer": "ipython3",
   "version": "3.9.12"
  }
 },
 "nbformat": 4,
 "nbformat_minor": 5
}
